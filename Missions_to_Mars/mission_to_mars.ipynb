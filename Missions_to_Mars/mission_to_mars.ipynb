{
 "cells": [
  {
   "cell_type": "code",
   "execution_count": 1,
   "metadata": {},
   "outputs": [],
   "source": [
    "# Dependencies\n",
    "import numpy as np\n",
    "import pandas as pd\n",
    "from splinter import Browser\n",
    "from bs4 import BeautifulSoup as bs\n",
    "from selenium import webdriver\n",
    "import requests\n",
    "import time"
   ]
  },
  {
   "cell_type": "code",
   "execution_count": 2,
   "metadata": {},
   "outputs": [],
   "source": [
    "# dictionary to be filled\n",
    "headlines = {}\n",
    "# list to be filled\n",
    "pgs = []"
   ]
  },
  {
   "cell_type": "markdown",
   "metadata": {},
   "source": [
    "News"
   ]
  },
  {
   "cell_type": "code",
   "execution_count": 3,
   "metadata": {},
   "outputs": [],
   "source": [
    "# homepage url\n",
    "home_url = 'https://mars.nasa.gov/'\n",
    "# scrape url\n",
    "nasa_url = 'https://mars.nasa.gov/news/'\n",
    "# url response\n",
    "response = requests.get(nasa_url)\n",
    "time.sleep(5)\n",
    "# puts response in BeautifulSoup\n",
    "soup_resp = bs(response.text, 'html.parser')\n",
    "time.sleep(5)"
   ]
  },
  {
   "cell_type": "code",
   "execution_count": 4,
   "metadata": {},
   "outputs": [],
   "source": [
    "# class finder\n",
    "class_soup = soup_resp.find('div', class_='slide')\n",
    "# anchor finder\n",
    "anchor_soup = class_soup.find_all('a')\n",
    "# title cleaner\n",
    "title = anchor_soup[1].get_text().strip() "
   ]
  },
  {
   "cell_type": "code",
   "execution_count": 5,
   "metadata": {},
   "outputs": [],
   "source": [
    "# paragraph finder\n",
    "pg_soup = class_soup.find('a')\n",
    "# url for paragraphs\n",
    "url_soup = pg_soup['href']\n",
    "# combiner\n",
    "url_pgh = home_url + url_soup \n",
    "# 2nd response\n",
    "next_response = requests.get(url_pgh)\n",
    "time.sleep(5)\n",
    "# 2nd response to BeautifulSoup\n",
    "scnd_response = bs(next_response.text, \"html.parser\")\n",
    "time.sleep(5)\n",
    "# class finder\n",
    "find_class = scnd_response.find(class_='wysiwyg_content')\n",
    "# paragraph finder\n",
    "find_para = find_class.find_all('p')"
   ]
  },
  {
   "cell_type": "code",
   "execution_count": 6,
   "metadata": {},
   "outputs": [],
   "source": [
    "# iterate and clean up the paragraph results\n",
    "for para in find_para:                                                 \n",
    "    para_clean = para.get_text().strip()   \n",
    "    pgs.append(para_clean) "
   ]
  },
  {
   "cell_type": "code",
   "execution_count": 7,
   "metadata": {},
   "outputs": [
    {
     "data": {
      "text/plain": [
       "{'News Title': 'NASA Invites Students to Name Mars 2020 Rover',\n",
       " 'First Paragraph': 'Red rover, red rover, send a name for Mars 2020 right over! NASA is recruiting help from students nationwide to find a name for its next Mars rover mission.',\n",
       " 'Second Paragraph': 'Starting Tuesday, Aug. 27, K-12 students in U.S. public, private and home schools can enter the Mars 2020 Name the Rover essay contest. One grand prize winner will name the rover and be invited to see the spacecraft launch in July 2020 from Cape Canaveral Air Force Station in Florida.'}"
      ]
     },
     "execution_count": 7,
     "metadata": {},
     "output_type": "execute_result"
    }
   ],
   "source": [
    "# dictionary title\n",
    "headlines['News Title'] = title\n",
    "# summary\n",
    "headlines['First Paragraph'] = pgs[0]\n",
    "# detail\n",
    "headlines['Second Paragraph'] = pgs[1]\n",
    "\n",
    "headlines "
   ]
  },
  {
   "cell_type": "markdown",
   "metadata": {},
   "source": [
    "Images"
   ]
  },
  {
   "cell_type": "code",
   "execution_count": 8,
   "metadata": {},
   "outputs": [],
   "source": [
    "# splinter\n",
    "browser = Browser('chrome', headless=False) \n",
    "# images\n",
    "images = 'https://photojournal.jpl.nasa.gov/jpeg/'\n",
    "# search\n",
    "url_search = \"https://www.jpl.nasa.gov/spaceimages/?search=&category=Mars\" "
   ]
  },
  {
   "cell_type": "code",
   "execution_count": 9,
   "metadata": {},
   "outputs": [],
   "source": [
    "# define browser\n",
    "browser.visit(url_search)\n",
    "# visit the search URL with automated browser\n",
    "html_search = browser.html\n",
    "time.sleep(5)\n",
    "# url response\n",
    "soup_url = bs(html_search, 'html.parser')\n",
    "time.sleep(5)"
   ]
  },
  {
   "cell_type": "code",
   "execution_count": 10,
   "metadata": {},
   "outputs": [],
   "source": [
    "# create an image list\n",
    "image_list = []\n",
    "# iterate to find images\n",
    "for image in soup_url.find_all('div',class_=\"img\"):\n",
    "    image_list.append(image.find('img').get('src')) "
   ]
  },
  {
   "cell_type": "code",
   "execution_count": 11,
   "metadata": {},
   "outputs": [
    {
     "data": {
      "text/plain": [
       "'https://photojournal.jpl.nasa.gov/jpeg/PIA23563.jpg'"
      ]
     },
     "execution_count": 11,
     "metadata": {},
     "output_type": "execute_result"
    }
   ],
   "source": [
    "# finds first image\n",
    "first_image = image_list[0]\n",
    "# split\n",
    "first_list = first_image.split('-')   \n",
    "# 2nd split\n",
    "scnd_list = first_list[0].split('/')\n",
    "# concatenate\n",
    "featured_image_url = images + scnd_list[-1] + '.jpg'\n",
    "\n",
    "featured_image_url"
   ]
  },
  {
   "cell_type": "code",
   "execution_count": 12,
   "metadata": {},
   "outputs": [],
   "source": [
    "browser.quit()"
   ]
  },
  {
   "cell_type": "markdown",
   "metadata": {},
   "source": [
    "Twitter scrape"
   ]
  },
  {
   "cell_type": "code",
   "execution_count": 13,
   "metadata": {},
   "outputs": [],
   "source": [
    "# initialize the browser\n",
    "browser = Browser('chrome', headless=False)   \n",
    "# define url\n",
    "weather_tweet = 'https://twitter.com/marswxreport?lang=en'\n",
    "# visit url\n",
    "browser.visit(weather_tweet)\n",
    "# url response\n",
    "html_tweet = browser.html\n",
    "time.sleep(5)\n",
    "# acquires response from URL via BeautifulSoup\n",
    "soup_tweet = bs(html_tweet, 'html.parser')\n",
    "time.sleep(5)"
   ]
  },
  {
   "cell_type": "code",
   "execution_count": 14,
   "metadata": {},
   "outputs": [],
   "source": [
    "# create list to be filled\n",
    "mars_weather = []\n",
    "# iterates tweets from bs and adds to list\n",
    "for weather in soup_tweet.find_all('p',class_=\"TweetTextSize TweetTextSize--normal js-tweet-text tweet-text\"):\n",
    "    mars_weather.append(weather.text.strip()) "
   ]
  },
  {
   "cell_type": "code",
   "execution_count": 15,
   "metadata": {},
   "outputs": [
    {
     "data": {
      "text/plain": [
       "['InSight sol 359 (2019-11-30) low -99.3ºC (-146.8ºF) high -21.8ºC (-7.2ºF)\\nwinds from the SSE at 5.8 m/s (13.0 mph) gusting to 23.3 m/s (52.0 mph)\\npressure at 6.70 hPapic.twitter.com/cKJj2YTDad',\n",
       " 'InSight sol 358 (2019-11-29) low -99.0ºC (-146.1ºF) high -21.5ºC (-6.7ºF)\\nwinds from the SSE at 5.4 m/s (12.0 mph) gusting to 19.5 m/s (43.6 mph)\\npressure at 6.70 hPapic.twitter.com/U4v6qiVlSW',\n",
       " 'InSight sol 357 (2019-11-28) low -101.0ºC (-149.8ºF) high -20.8ºC (-5.4ºF)\\nwinds from the SSE at 5.3 m/s (11.8 mph) gusting to 20.7 m/s (46.3 mph)\\npressure at 6.70 hPapic.twitter.com/xTk37j1IsN',\n",
       " 'Anything worth doing is worth doing precisely #HappyThanksgivingpic.twitter.com/UaDowSl3yN',\n",
       " 'InSight sol 356 (2019-11-27) low -100.0ºC (-148.0ºF) high -21.7ºC (-7.1ºF)\\nwinds from the SSE at 5.2 m/s (11.7 mph) gusting to 19.0 m/s (42.6 mph)\\npressure at 6.70 hPapic.twitter.com/oNdx3LsNy6',\n",
       " 'InSight sol 355 (2019-11-25) low -99.6ºC (-147.4ºF) high -23.2ºC (-9.7ºF)\\nwinds from the SSE at 5.4 m/s (12.2 mph) gusting to 19.8 m/s (44.2 mph)\\npressure at 6.70 hPapic.twitter.com/i0OVq2GJsM',\n",
       " 'InSight sol 354 (2019-11-24) low -99.7ºC (-147.5ºF) high -22.6ºC (-8.6ºF)\\nwinds from the SSW at 4.8 m/s (10.8 mph) gusting to 23.9 m/s (53.5 mph)\\npressure at 6.80 hPapic.twitter.com/QojEKyxlhp',\n",
       " 'InSight sol 353 (2019-11-24) low -100.6ºC (-149.1ºF) high -23.3ºC (-10.0ºF)\\nwinds from the SSE at 5.8 m/s (13.1 mph) gusting to 21.4 m/s (47.9 mph)\\npressure at 6.70 hPapic.twitter.com/NPmuRAuvQ7',\n",
       " 'InSight sol 352 (2019-11-23) low -100.7ºC (-149.3ºF) high -22.0ºC (-7.6ºF)\\nwinds from the S at 5.7 m/s (12.8 mph) gusting to 21.9 m/s (49.0 mph)\\npressure at 6.80 hPapic.twitter.com/fXsaTX3DDB',\n",
       " 'InSight sol 351 (2019-11-22) low -100.4ºC (-148.7ºF) high -22.6ºC (-8.6ºF)\\nwinds from the SSE at 5.5 m/s (12.3 mph) gusting to 23.7 m/s (53.1 mph)\\npressure at 6.70 hPapic.twitter.com/HEvWMSOcYQ',\n",
       " 'InSight sol 350 (2019-11-20) low -103.0ºC (-153.4ºF) high -23.2ºC (-9.8ºF)\\nwinds from the SSE at 5.0 m/s (11.2 mph) gusting to 20.7 m/s (46.4 mph)\\npressure at 6.80 hPapic.twitter.com/OXkl0lJczQ',\n",
       " 'InSight sol 349 (2019-11-19) low -103.2ºC (-153.8ºF) high -22.3ºC (-8.1ºF)\\nwinds from the SSE at 4.8 m/s (10.7 mph) gusting to 18.4 m/s (41.1 mph)\\npressure at 6.80 hPapic.twitter.com/8235o0ln3B',\n",
       " 'InSight sol 348 (2019-11-19) low -102.5ºC (-152.5ºF) high -23.2ºC (-9.8ºF)\\nwinds from the SSE at 5.1 m/s (11.5 mph) gusting to 18.9 m/s (42.3 mph)\\npressure at 6.80 hPapic.twitter.com/iZwojPj9au',\n",
       " 'InSight sol 347 (2019-11-17) low -102.0ºC (-151.6ºF) high -23.7ºC (-10.7ºF)\\nwinds from the SSE at 4.8 m/s (10.8 mph) gusting to 19.6 m/s (43.8 mph)\\npressure at 6.80 hPapic.twitter.com/scrxCgTA81',\n",
       " \"First geologic map of Saturn's moon Titan. The Cassini mission continues to deliver. https://www.jpl.nasa.gov/news/news.php?feature=7542\\xa0…pic.twitter.com/tGK8vUWw81\",\n",
       " 'InSight sol 346 (2019-11-16) low -101.5ºC (-150.8ºF) high -23.5ºC (-10.3ºF)\\nwinds from the SSE at 4.8 m/s (10.8 mph) gusting to 20.0 m/s (44.7 mph)\\npressure at 6.80 hPapic.twitter.com/zAXfs9KpgE',\n",
       " 'InSight sol 345 (2019-11-15) low -100.4ºC (-148.6ºF) high -23.9ºC (-11.1ºF)\\nwinds from the SSE at 5.4 m/s (12.0 mph) gusting to 20.2 m/s (45.3 mph)\\npressure at 6.80 hPapic.twitter.com/LM9HL7PUX0',\n",
       " 'InSight sol 344 (2019-11-15) low -99.9ºC (-147.9ºF) high -23.3ºC (-9.9ºF)\\nwinds from the SSE at 5.7 m/s (12.9 mph) gusting to 18.9 m/s (42.3 mph)\\npressure at 6.80 hPapic.twitter.com/KfHgLqxVBk',\n",
       " 'InSight sol 343 (2019-11-13) low -100.8ºC (-149.4ºF) high -23.1ºC (-9.5ºF)\\nwinds from the SSE at 5.2 m/s (11.7 mph) gusting to 20.8 m/s (46.5 mph)\\npressure at 6.90 hPa',\n",
       " 'InSight sol 342 (2019-11-13) low -99.9ºC (-147.8ºF) high -23.3ºC (-9.9ºF)\\nwinds from the SW at 5.2 m/s (11.7 mph) gusting to 20.5 m/s (46.0 mph)\\npressure at 6.90 hPapic.twitter.com/NO4iCrXgrl']"
      ]
     },
     "execution_count": 15,
     "metadata": {},
     "output_type": "execute_result"
    }
   ],
   "source": [
    "# look and iterate back on weather tweets\n",
    "for tweet in reversed(mars_weather):\n",
    "    if tweet[:3]=='Sol':\n",
    "        mars_weather = tweet\n",
    "\n",
    "mars_weather"
   ]
  },
  {
   "cell_type": "code",
   "execution_count": 16,
   "metadata": {},
   "outputs": [],
   "source": [
    "browser.quit() "
   ]
  },
  {
   "cell_type": "markdown",
   "metadata": {},
   "source": [
    "Mars Facts"
   ]
  },
  {
   "cell_type": "code",
   "execution_count": 17,
   "metadata": {},
   "outputs": [],
   "source": [
    "# id the url\n",
    "facts = 'https://space-facts.com/mars/'\n",
    "# initialize new browser\n",
    "browser = Browser('chrome', headless=False)\n",
    "# visit the page\n",
    "browser.visit(facts)\n",
    "time.sleep(5)\n",
    "# declare the page\n",
    "facts_page = browser.html\n",
    "time.sleep(5)"
   ]
  },
  {
   "cell_type": "code",
   "execution_count": 18,
   "metadata": {},
   "outputs": [
    {
     "data": {
      "text/html": [
       "<div>\n",
       "<style scoped>\n",
       "    .dataframe tbody tr th:only-of-type {\n",
       "        vertical-align: middle;\n",
       "    }\n",
       "\n",
       "    .dataframe tbody tr th {\n",
       "        vertical-align: top;\n",
       "    }\n",
       "\n",
       "    .dataframe thead th {\n",
       "        text-align: right;\n",
       "    }\n",
       "</style>\n",
       "<table border=\"1\" class=\"dataframe\">\n",
       "  <thead>\n",
       "    <tr style=\"text-align: right;\">\n",
       "      <th></th>\n",
       "      <th>Fact</th>\n",
       "      <th>Measurement</th>\n",
       "    </tr>\n",
       "  </thead>\n",
       "  <tbody>\n",
       "    <tr>\n",
       "      <td>0</td>\n",
       "      <td>Equatorial Diameter:</td>\n",
       "      <td>6,792 km</td>\n",
       "    </tr>\n",
       "    <tr>\n",
       "      <td>1</td>\n",
       "      <td>Polar Diameter:</td>\n",
       "      <td>6,752 km</td>\n",
       "    </tr>\n",
       "    <tr>\n",
       "      <td>2</td>\n",
       "      <td>Mass:</td>\n",
       "      <td>6.39 × 10^23 kg (0.11 Earths)</td>\n",
       "    </tr>\n",
       "    <tr>\n",
       "      <td>3</td>\n",
       "      <td>Moons:</td>\n",
       "      <td>2 (Phobos &amp; Deimos)</td>\n",
       "    </tr>\n",
       "    <tr>\n",
       "      <td>4</td>\n",
       "      <td>Orbit Distance:</td>\n",
       "      <td>227,943,824 km (1.38 AU)</td>\n",
       "    </tr>\n",
       "    <tr>\n",
       "      <td>5</td>\n",
       "      <td>Orbit Period:</td>\n",
       "      <td>687 days (1.9 years)</td>\n",
       "    </tr>\n",
       "    <tr>\n",
       "      <td>6</td>\n",
       "      <td>Surface Temperature:</td>\n",
       "      <td>-87 to -5 °C</td>\n",
       "    </tr>\n",
       "    <tr>\n",
       "      <td>7</td>\n",
       "      <td>First Record:</td>\n",
       "      <td>2nd millennium BC</td>\n",
       "    </tr>\n",
       "    <tr>\n",
       "      <td>8</td>\n",
       "      <td>Recorded By:</td>\n",
       "      <td>Egyptian astronomers</td>\n",
       "    </tr>\n",
       "  </tbody>\n",
       "</table>\n",
       "</div>"
      ],
      "text/plain": [
       "                   Fact                    Measurement\n",
       "0  Equatorial Diameter:                       6,792 km\n",
       "1       Polar Diameter:                       6,752 km\n",
       "2                 Mass:  6.39 × 10^23 kg (0.11 Earths)\n",
       "3                Moons:            2 (Phobos & Deimos)\n",
       "4       Orbit Distance:       227,943,824 km (1.38 AU)\n",
       "5         Orbit Period:           687 days (1.9 years)\n",
       "6  Surface Temperature:                   -87 to -5 °C\n",
       "7         First Record:              2nd millennium BC\n",
       "8          Recorded By:           Egyptian astronomers"
      ]
     },
     "execution_count": 18,
     "metadata": {},
     "output_type": "execute_result"
    }
   ],
   "source": [
    "# read into pandas\n",
    "pd_facts = pd.read_html(facts)\n",
    "# index\n",
    "df_facts = pd_facts[0]\n",
    "# name columns and set index\n",
    "df_facts.columns = ['Fact', 'Measurement']\n",
    "# df_facts.set_index('Fact', inplace=True)\n",
    "# df to html\n",
    "html_facts = df_facts.to_html(header=False, index=False)\n",
    "\n",
    "df_facts"
   ]
  },
  {
   "cell_type": "code",
   "execution_count": 19,
   "metadata": {},
   "outputs": [],
   "source": [
    "browser.quit()"
   ]
  },
  {
   "cell_type": "markdown",
   "metadata": {},
   "source": [
    "Mars Hemispheres"
   ]
  },
  {
   "cell_type": "code",
   "execution_count": 22,
   "metadata": {},
   "outputs": [],
   "source": [
    "# browser\n",
    "browser = Browser('chrome', headless=False)                               \n",
    "# search url\n",
    "hemi_search = 'https://web.archive.org/web/20181114171728/https://astrogeology.usgs.gov/search/results?q=hemisphere+enhanced&k1=target&v1=Mars'\n",
    "# visit url\n",
    "browser.visit(hemi_search)\n",
    "time.sleep(5)\n",
    "# get response\n",
    "hemi_response = browser.html\n",
    "time.sleep(5)\n",
    "# soup\n",
    "hemi_soup = bs(hemi_response, 'html.parser') "
   ]
  },
  {
   "cell_type": "code",
   "execution_count": 25,
   "metadata": {},
   "outputs": [
    {
     "ename": "AttributeError",
     "evalue": "'NoneType' object has no attribute 'replaceWith'",
     "output_type": "error",
     "traceback": [
      "\u001b[0;31m---------------------------------------------------------------------------\u001b[0m",
      "\u001b[0;31mAttributeError\u001b[0m                            Traceback (most recent call last)",
      "\u001b[0;32m<ipython-input-25-fb0207b8e29c>\u001b[0m in \u001b[0;36m<module>\u001b[0;34m\u001b[0m\n\u001b[1;32m     10\u001b[0m \u001b[0;31m# get title\u001b[0m\u001b[0;34m\u001b[0m\u001b[0;34m\u001b[0m\u001b[0;34m\u001b[0m\u001b[0m\n\u001b[1;32m     11\u001b[0m     \u001b[0mhemi_title\u001b[0m \u001b[0;34m=\u001b[0m \u001b[0mhemi\u001b[0m\u001b[0;34m.\u001b[0m\u001b[0mfind\u001b[0m\u001b[0;34m(\u001b[0m\u001b[0;34m'h3'\u001b[0m\u001b[0;34m)\u001b[0m\u001b[0;34m\u001b[0m\u001b[0;34m\u001b[0m\u001b[0m\n\u001b[0;32m---> 12\u001b[0;31m     \u001b[0mhemi_text\u001b[0m \u001b[0;34m=\u001b[0m \u001b[0mhemi_title\u001b[0m\u001b[0;34m.\u001b[0m\u001b[0mreplaceWith\u001b[0m\u001b[0;34m(\u001b[0m\u001b[0;34m'Enhanced'\u001b[0m\u001b[0;34m,\u001b[0m \u001b[0;34m''\u001b[0m\u001b[0;34m)\u001b[0m\u001b[0;34m\u001b[0m\u001b[0;34m\u001b[0m\u001b[0m\n\u001b[0m\u001b[1;32m     13\u001b[0m \u001b[0;31m# note the links\u001b[0m\u001b[0;34m\u001b[0m\u001b[0;34m\u001b[0m\u001b[0;34m\u001b[0m\u001b[0m\n\u001b[1;32m     14\u001b[0m     \u001b[0mimg_link\u001b[0m \u001b[0;34m=\u001b[0m \u001b[0mhemi\u001b[0m\u001b[0;34m.\u001b[0m\u001b[0mfind\u001b[0m\u001b[0;34m(\u001b[0m\u001b[0;34m'a'\u001b[0m\u001b[0;34m)\u001b[0m\u001b[0;34m[\u001b[0m\u001b[0;34m'href'\u001b[0m\u001b[0;34m]\u001b[0m\u001b[0;34m\u001b[0m\u001b[0;34m\u001b[0m\u001b[0m\n",
      "\u001b[0;31mAttributeError\u001b[0m: 'NoneType' object has no attribute 'replaceWith'"
     ]
    }
   ],
   "source": [
    "# list to be filled\n",
    "hemi_images = []\n",
    "# product finder\n",
    "products = hemi_soup.find('div', class_='result-list') \n",
    "time.sleep(5)\n",
    "# hemi finder\n",
    "hemis = products.find('div', class_='item')\n",
    "# iterate the hemis\n",
    "for hemi in hemis:\n",
    "# get title\n",
    "    hemi_title = hemi.find('h3')\n",
    "    hemi_text = hemi_title.replaceWith('Enhanced', '')\n",
    "# note the links\n",
    "    img_link = hemi.find('a')['href']\n",
    "    search_img = 'https://astrogeology.usgs.gov/' + img_link \n",
    "# auto click\n",
    "    browser.visit(search_img)\n",
    "# get response\n",
    "    hemi_html = browser.html\n",
    "    time.sleep(5)\n",
    "# bs response\n",
    "    hemi_soup2 = bs(hemi_html, 'html.parser')\n",
    "    time.sleep(5)\n",
    "# find image link\n",
    "    hemi_pics = hemi_soup2.find('div', class_='downloads')\n",
    "    time.sleep(5)\n",
    "    hemi_url = hemi_pics.find('a')['href']\n",
    "# dictionary\n",
    "    hemi_images.append({'title': hemi_text, 'img_url': hemi_url})\n",
    "    \n",
    "print(hemi_images)"
   ]
  },
  {
   "cell_type": "code",
   "execution_count": null,
   "metadata": {},
   "outputs": [],
   "source": [
    "browser.quit()"
   ]
  }
 ],
 "metadata": {
  "kernelspec": {
   "display_name": "Python 3",
   "language": "python",
   "name": "python3"
  },
  "language_info": {
   "codemirror_mode": {
    "name": "ipython",
    "version": 3
   },
   "file_extension": ".py",
   "mimetype": "text/x-python",
   "name": "python",
   "nbconvert_exporter": "python",
   "pygments_lexer": "ipython3",
   "version": "3.6.9"
  }
 },
 "nbformat": 4,
 "nbformat_minor": 2
}
